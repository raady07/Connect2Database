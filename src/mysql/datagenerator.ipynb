{
 "cells": [
  {
   "cell_type": "code",
   "execution_count": 1,
   "metadata": {},
   "outputs": [],
   "source": [
    "import numpy as np\n",
    "from faker import Faker\n",
    "import random\n",
    "import json\n",
    "\n",
    "fake = Faker()\n",
    "fixed_digits = 6\n",
    "courses_list = ['Computer science', 'Mechanical', 'Chemical', 'Electronics and Communications']\n"
   ]
  },
  {
   "cell_type": "code",
   "execution_count": 2,
   "metadata": {},
   "outputs": [],
   "source": [
    "def faker_data_generator(num=1, study_year=1, seed=None):\n",
    "    fake.seed_instance(seed)\n",
    "    output = []\n",
    "    for x in range(num):\n",
    "      gender = np.random.choice([\"Male\", \"Female\"], p=[0.5, 0.5])\n",
    "      given_name = fake.first_name_male() if gender==\"Male\" else fake.first_name_female()\n",
    "      surname = fake.last_name()\n",
    "      generated_name = given_name + ' ' + surname\n",
    "      output.append(\n",
    "        {\n",
    "            \"studentname\": generated_name,\n",
    "            \"rollnumber\": random.randrange(1111111111, 9999999999, 6),\n",
    "            \"study_year\": study_year,\n",
    "            \"gender\": gender,            \n",
    "            \"course\": random.choice(courses_list) + ' ' + \"Engineering\",\n",
    "            \"joinedyear\": 2023\n",
    "        }\n",
    "      )\n",
    "    return output"
   ]
  },
  {
   "cell_type": "code",
   "execution_count": 3,
   "metadata": {},
   "outputs": [],
   "source": [
    "students = faker_data_generator(250, 1)"
   ]
  },
  {
   "cell_type": "code",
   "execution_count": 4,
   "metadata": {},
   "outputs": [],
   "source": [
    "with open('../data/studentdata.json', 'w') as handle:\n",
    "    json.dump(students, handle) "
   ]
  }
 ],
 "metadata": {
  "kernelspec": {
   "display_name": ".venv",
   "language": "python",
   "name": "python3"
  },
  "language_info": {
   "codemirror_mode": {
    "name": "ipython",
    "version": 3
   },
   "file_extension": ".py",
   "mimetype": "text/x-python",
   "name": "python",
   "nbconvert_exporter": "python",
   "pygments_lexer": "ipython3",
   "version": "3.8.10"
  },
  "orig_nbformat": 4,
  "vscode": {
   "interpreter": {
    "hash": "17d50a65c13d53aa8a387a549a74caa9dace13f30876fe557c630b58e49b7a95"
   }
  }
 },
 "nbformat": 4,
 "nbformat_minor": 2
}

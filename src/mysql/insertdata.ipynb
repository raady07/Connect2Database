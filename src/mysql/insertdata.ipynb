{
 "cells": [
  {
   "cell_type": "code",
   "execution_count": 2,
   "metadata": {},
   "outputs": [],
   "source": [
    "import json\n",
    "from utils.storageutils import MySQLManager\n",
    "from utils.config import CONFIG\n",
    "from utils.config import student_data"
   ]
  },
  {
   "cell_type": "code",
   "execution_count": 13,
   "metadata": {},
   "outputs": [
    {
     "data": {
      "text/plain": [
       "49"
      ]
     },
     "execution_count": 13,
     "metadata": {},
     "output_type": "execute_result"
    }
   ],
   "source": [
    "table = 'students'\n",
    "cols = ['studentname', 'rollnumber', 'study_year', 'gender', 'course', 'joinedyear']\n",
    "data = []\n",
    "for item in student_data:\n",
    "    x = {}\n",
    "    x['studentname'] = item['studentname']\n",
    "    x['rollnumber'] = str(item['rollnumber'])\n",
    "    x['study_year'] = item['study_year']\n",
    "    x['gender'] = item['gender']\n",
    "    x['course'] = item['course']\n",
    "    x['joinedyear'] = item['joinedyear']\n",
    "    data.append(x)\n",
    "    if len(data) > 200:\n",
    "        MySQLManager.bulk_insert(table, cols, data, **CONFIG[\"database\"][\"gnits\"])\n",
    "        data = []\n",
    "MySQLManager.bulk_insert(table, cols, data, **CONFIG[\"database\"][\"gnits\"])"
   ]
  },
  {
   "cell_type": "code",
   "execution_count": 16,
   "metadata": {},
   "outputs": [
    {
     "data": {
      "text/plain": [
       "{'total': 250}"
      ]
     },
     "execution_count": 16,
     "metadata": {},
     "output_type": "execute_result"
    }
   ],
   "source": [
    "query = 'select count(*) as total from students;'\n",
    "res = {}\n",
    "try:\n",
    "    res = MySQLManager.execute_query(query, None, **CONFIG['database']['gnits'])\n",
    "    res = res[0]\n",
    "except Exception as error:\n",
    "    print(error)\n",
    "res"
   ]
  }
 ],
 "metadata": {
  "kernelspec": {
   "display_name": ".venv",
   "language": "python",
   "name": "python3"
  },
  "language_info": {
   "codemirror_mode": {
    "name": "ipython",
    "version": 3
   },
   "file_extension": ".py",
   "mimetype": "text/x-python",
   "name": "python",
   "nbconvert_exporter": "python",
   "pygments_lexer": "ipython3",
   "version": "3.8.10"
  },
  "orig_nbformat": 4,
  "vscode": {
   "interpreter": {
    "hash": "17d50a65c13d53aa8a387a549a74caa9dace13f30876fe557c630b58e49b7a95"
   }
  }
 },
 "nbformat": 4,
 "nbformat_minor": 2
}
